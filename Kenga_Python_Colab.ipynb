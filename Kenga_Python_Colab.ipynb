!pip install -r requirements.txt

from src.neural.models.kenga import KengaModel, KengaConfig

config = KengaConfig()
model = KengaModel(config)

input_ids = torch.randint(0, config.vocab_size, (1, 10))
contrastive_output, prediction_output = model(input_ids)
print("Contrastive Output:", contrastive_output)
print("Prediction Output:", prediction_output)
