# Загрузка зависимостей
!pip install -r requirements.txt

# Импорт модели
from src.neural.models.kenga import KengaModel, KengaConfig

# Создание экземпляра модели
config = KengaConfig()
model = KengaModel(config)

# Пример использования
input_ids = torch.randint(0, config.vocab_size, (1, 10))
contrastive_output, prediction_output = model(input_ids)
print("Contrastive Output:", contrastive_output)
print("Prediction Output:", prediction_output)
