 {
  "cells": [
    {
      "cell_type": "markdown",
      "metadata": {
        "id": "introduction"
      },
      "source": [
        "# Kenga AI - Python Version\n",
        "\n",
        "Этот ноутбук позволяет запустить Python-версию Kenga AI непосредственно в Google Colab.\n",
        "\n",
        "## Установка и настройка"
      ]
    },
    {
      "cell_type": "code",
      "metadata": {
        "id": "setup"
      },
      "source": [
        "!pip install torch transformers fastapi uvicorn python-multipart plotly pandas scikit-learn opencv-python-headless pytesseract\n",
        "!apt-get install -y tesseract-ocr\n",
        "\n",
        "# Клонируем репозиторий\n",
        "!git clone https://github.com/your-repo/kengapy.git\n",
        "%cd kengapy/python_version"
      ],
      "execution_count": null,
      "outputs": []
    },
    {
      "cell_type": "markdown",
      "metadata": {},
      "source": [
        "## Запуск модели"
      ]
    },
    {
      "cell_type": "code",
      "metadata": {
        "id": "model-setup"
      },
      "source": [
        "import sys\n",
        "sys.path.append('.')\n",
        "\n",
        "from src.neural.models.kenga import KengaModel, KengaConfig\n",
        "from src.neural.trainers.autonomous_trainer import AutonomousTrainer\n",
        "from src.monitoring.visualization import MetricsVisualizer\n",
        "\n",
        "# Инициализация модели\n",
        "config = KengaConfig(\n",
        "    vocab_size=50000,\n",
        "    hidden_size=768,\n",
        "    num_layers=6,\n",
        "    num_heads=12\n",
        ")\n",
        "model = KengaModel(config)\n",
        "trainer = AutonomousTrainer(model)\n",
        "visualizer = MetricsVisualizer()"
      ],
      "execution_count": null,
      "outputs": []
    },
    {
      "cell_type": "markdown",
      "metadata": {},
      "source": [
        "## Интерактивный интерфейс"
      ]
    },
    {
      "cell_type": "code",
      "metadata": {
        "id": "interactive-interface"
      },
      "source": [
        "import ipywidgets as widgets\n",
        "from IPython.display import display, HTML\n",
        "\n",
        "text_input = widgets.Textarea(\n",
        "    value='',\n",
        "    placeholder='Введите ваш запрос здесь...',\n",
        "    description='Запрос:',\n",
        "    disabled=False,\n",
        "    layout={'width': '100%', 'height': '100px'}\n",
        ")\n",
        "\n",
        "output = widgets.Output()\n",
        "\n",
        "def on_send_click(b):\n",
        "    with output:\n",
        "        output.clear_output()\n",
        "        print(\"Обработка запроса...\")\n",
        "        response = model.process(text_input.value)\n",
        "        print(f\"Ответ: {response}\")\n",
        "\n",
        "send_button = widgets.Button(description='Отправить')\n",
        "send_button.on_click(on_send_click)\n",
        "\n",
        "file_upload = widgets.FileUpload(\n",
        "    accept='',  # Принимаем все типы файлов\n",
        "    multiple=True,\n",
        "    description='Загрузить файлы'\n",
        ")\n",
        "\n",
        "display(text_input, send_button, file_upload, output)"
      ],
      "execution_count": null,
      "outputs": []
    },
    {
      "cell_type": "markdown",
      "metadata": {},
      "source": [
        "## Визуализация метрик"
      ]
    },
    {
      "cell_type": "code",
      "metadata": {
        "id": "metrics-visualization"
      },
      "source": [
        "import plotly.graph_objects as go\n",
        "from IPython.display import display\n",
        "\n",
        "def plot_metrics():\n",
        "    metrics = trainer.get_metrics()\n",
        "    \n",
        "    fig = go.Figure()\n",
        "    fig.add_trace(go.Scatter(y=metrics['loss'], name='Loss'))\n",
        "    fig.add_trace(go.Scatter(y=metrics['accuracy'], name='Accuracy'))\n",
        "    \n",
        "    fig.update_layout(\n",
        "        title='Training Metrics',\n",
        "        xaxis_title='Step',\n",
        "        yaxis_title='Value'\n",
        "    )\n",
        "    \n",
        "    fig.show()\n",
        "\n",
        "# Кнопка для обновления графиков\n",
        "update_button = widgets.Button(description='Обновить метрики')\n",
        "update_button.on_click(lambda b: plot_metrics())\n",
        "display(update_button)"
      ],
      "execution_count": null,
      "outputs": []
    },
    {
      "cell_type": "markdown",
      "metadata": {},
      "source": [
        "## Анализ файлов"
      ]
    },
    {
      "cell_type": "code",
      "metadata": {
        "id": "file-analysis"
      },
      "source": [
        "from src.file_analysis.analyzer import FileAnalyzer\n",
        "\n",
        "analyzer = FileAnalyzer()\n",
        "\n",
        "def analyze_uploaded_files(change):\n",
        "    with output:\n",
        "        output.clear_output()\n",
        "        for filename, file_info in change['new'].items():\n",
        "            content = file_info['content']\n",
        "            with open(filename, 'wb') as f:\n",
        "                f.write(content)\n",
        "            \n",
        "            print(f\"Анализ файла {filename}...\")\n",
        "            results = analyzer.analyze_file(filename)\n",
        "            print(f\"Результаты:\\n{results}\\n\")\n",
        "\n",
        "file_upload.observe(analyze_uploaded_files, names='value')"
      ],
      "execution_count": null,
      "outputs": []
    },
    {
      "cell_type": "markdown",
      "metadata": {},
      "source": [
        "## Эксперименты"
      ]
    },
    {
      "cell_type": "code",
      "metadata": {
        "id": "experiments"
      },
      "source": [
        "from src.experiments.manager import ExperimentManager, ExperimentConfig\n",
        "\n",
        "experiment_manager = ExperimentManager()\n",
        "\n",
        "def create_experiment():\n",
        "    config = ExperimentConfig(\n",
        "        name=\"Test Experiment\",\n",
        "        description=\"Test experiment with default parameters\",\n",
        "        model_config=config.__dict__,\n",
        "        training_config={\"batch_size\": 32, \"learning_rate\": 1e-4},\n",
        "        tags=[\"test\", \"default\"]\n",
        "    )\n",
        "    \n",
        "    experiment = experiment_manager.create_experiment(config)\n",
        "    print(f\"Created experiment with ID: {experiment.id}\")\n",
        "    return experiment\n",
        "\n",
        "create_exp_button = widgets.Button(description='Создать эксперимент')\n",
        "create_exp_button.on_click(lambda b: create_experiment())\n",
        "display(create_exp_button)"
      ],
      "execution_count": null,
      "outputs": []
    }
  ],
  "metadata": {
    "accelerator": "GPU",
    "colab": {
      "name": "Kenga_Python_Demo.ipynb",
      "provenance": []
    },
    "kernelspec": {
      "display_name": "Python 3",
      "name": "python3"
    }
  },
  "nbformat": 4,
  "nbformat_minor": 0
}
